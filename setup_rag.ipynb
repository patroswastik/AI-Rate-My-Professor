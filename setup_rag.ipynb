{
 "cells": [
  {
   "cell_type": "code",
   "execution_count": 6,
   "id": "24a72243-7e26-480f-b160-15ef57213dfb",
   "metadata": {},
   "outputs": [],
   "source": [
    "from dotenv import load_dotenv\n",
    "load_dotenv()\n",
    "from pinecone import Pinecone, ServerlessSpec\n",
    "from openai import OpenAI\n",
    "import os\n",
    "import json"
   ]
  },
  {
   "cell_type": "code",
   "execution_count": 11,
   "id": "0c6392d1-323b-4f20-882d-216e5f003abd",
   "metadata": {},
   "outputs": [],
   "source": [
    "pc = Pinecone(api_key=os.getenv(\"PINECONE_API_KEY\"))"
   ]
  },
  {
   "cell_type": "code",
   "execution_count": 12,
   "id": "37fea589-015e-4e71-888d-287caab5db4c",
   "metadata": {},
   "outputs": [],
   "source": [
    "pc.create_index(\n",
    "    name=\"rag\",\n",
    "    dimension=1536,\n",
    "    metric='cosine',\n",
    "    spec=ServerlessSpec(\n",
    "        cloud='aws',\n",
    "        region='us-east-1'\n",
    "    )\n",
    ")"
   ]
  },
  {
   "cell_type": "code",
   "execution_count": 13,
   "id": "226cc2ea-85ec-4767-b129-7f5630f3e2e0",
   "metadata": {},
   "outputs": [],
   "source": [
    "data = json.load(open(\"reviews.json\"))"
   ]
  },
  {
   "cell_type": "code",
   "execution_count": 15,
   "id": "b476c05e-0a43-4d1f-b0db-54574e36dddb",
   "metadata": {},
   "outputs": [],
   "source": [
    "processed_data = []\n",
    "client = OpenAI()"
   ]
  },
  {
   "cell_type": "code",
   "execution_count": 17,
   "id": "74999999-5e40-46d0-a38f-cf0a433a9bc2",
   "metadata": {},
   "outputs": [],
   "source": [
    "for review in data:\n",
    "    response = client.embeddings.create(\n",
    "        input = review['review'], \n",
    "        model = 'text-embedding-3-small'\n",
    "    )\n",
    "    embedding = response.data[0].embedding\n",
    "    processed_data.append(\n",
    "        {\n",
    "            \"values\": embedding,\n",
    "            \"id\": review['professor'],\n",
    "            \"metadata\": {\n",
    "                \"review\": review[\"review\"],\n",
    "                \"subject\": review[\"subject\"],\n",
    "                \"stars\": review[\"stars\"]\n",
    "            }\n",
    "        }\n",
    "    )"
   ]
  },
  {
   "cell_type": "code",
   "execution_count": 19,
   "id": "054a9cf0-327b-4650-a8f9-cadeb2c4bf04",
   "metadata": {},
   "outputs": [],
   "source": [
    "from pprint import pprint"
   ]
  },
  {
   "cell_type": "code",
   "execution_count": 21,
   "id": "5e669d01-524b-481b-904b-ffc5afd8b478",
   "metadata": {},
   "outputs": [],
   "source": [
    "index = pc.Index(\"rag\")"
   ]
  },
  {
   "cell_type": "code",
   "execution_count": 22,
   "id": "6b2a5e11-19c1-4fa1-88fd-fdb00120b1af",
   "metadata": {},
   "outputs": [
    {
     "name": "stdout",
     "output_type": "stream",
     "text": [
      "Upserted count: 20\n"
     ]
    }
   ],
   "source": [
    "upsert_response = index.upsert(\n",
    "    vectors=processed_data,\n",
    "    namespace=\"ns1\"\n",
    ")\n",
    "print(f\"Upserted count: {upsert_response['upserted_count']}\")"
   ]
  },
  {
   "cell_type": "code",
   "execution_count": 23,
   "id": "a82ae0da-e19f-48d4-bf20-c4cea9f0fdfb",
   "metadata": {},
   "outputs": [
    {
     "name": "stdout",
     "output_type": "stream",
     "text": [
      "{'dimension': 1536,\n",
      " 'index_fullness': 0.0,\n",
      " 'namespaces': {'ns1': {'vector_count': 20}},\n",
      " 'total_vector_count': 20}\n"
     ]
    }
   ],
   "source": [
    "print(index.describe_index_stats())"
   ]
  },
  {
   "cell_type": "code",
   "execution_count": null,
   "id": "e79fb18a-9396-4a44-bb2c-c211d5938a07",
   "metadata": {},
   "outputs": [],
   "source": []
  }
 ],
 "metadata": {
  "kernelspec": {
   "display_name": "Python 3 (ipykernel)",
   "language": "python",
   "name": "python3"
  },
  "language_info": {
   "codemirror_mode": {
    "name": "ipython",
    "version": 3
   },
   "file_extension": ".py",
   "mimetype": "text/x-python",
   "name": "python",
   "nbconvert_exporter": "python",
   "pygments_lexer": "ipython3",
   "version": "3.12.3"
  }
 },
 "nbformat": 4,
 "nbformat_minor": 5
}
